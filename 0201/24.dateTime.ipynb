{
 "cells": [
  {
   "cell_type": "markdown",
   "id": "aerial-pittsburgh",
   "metadata": {},
   "source": [
    "컴퓨터 시스템의 날짜와 시간을 얻어온다."
   ]
  },
  {
   "cell_type": "code",
   "execution_count": 1,
   "id": "optical-patrol",
   "metadata": {},
   "outputs": [
    {
     "name": "stdout",
     "output_type": "stream",
     "text": [
      "2021-02-01 21:38:11.633291\n"
     ]
    }
   ],
   "source": [
    "# datetime 패키지를 import 한다. => datetime 패키지 내부에 datetime 클래스가 있고 datetime 클래스에 now() 메소드가 있다.\n",
    "import datetime\n",
    "ㅊ"
   ]
  },
  {
   "cell_type": "code",
   "execution_count": 3,
   "id": "adult-internet",
   "metadata": {},
   "outputs": [
    {
     "name": "stdout",
     "output_type": "stream",
     "text": [
      "2021-02-01 21:38:31.588321\n"
     ]
    }
   ],
   "source": [
    "# datetime 패키지의 datetime 클래스만 import 한다.\n",
    "from datetime import datetime\n",
    "now2 = datetime.now()\n",
    "print(now2)"
   ]
  },
  {
   "cell_type": "code",
   "execution_count": 13,
   "id": "existing-hayes",
   "metadata": {},
   "outputs": [
    {
     "name": "stdout",
     "output_type": "stream",
     "text": [
      "2021-02-01 21:43:09.604422\n"
     ]
    }
   ],
   "source": [
    "# datetime 패키지의 datetime 클래스만 import 하고 dt라는 별명을 지정한다.\n",
    "from datetime import datetime as dt\n",
    "now3 = dt.now()\n",
    "print(now3)"
   ]
  },
  {
   "cell_type": "code",
   "execution_count": 16,
   "id": "killing-resort",
   "metadata": {},
   "outputs": [
    {
     "name": "stdout",
     "output_type": "stream",
     "text": [
      "년 : 2021\n",
      "월 : 2\n",
      "일 : 1\n",
      "시 : 21\n",
      "분 : 43\n",
      "초 : 9\n",
      "마이크로초 : 604422\n",
      "밀리초 : 604\n",
      "요일 : 0\n"
     ]
    }
   ],
   "source": [
    "print('년 : {}'.format(now3.year))\n",
    "print('월 : {}'.format(now3.month))\n",
    "print('일 : {}'.format(now3.day))\n",
    "print('시 : {}'.format(now3.hour))\n",
    "print('분 : {}'.format(now3.minute))\n",
    "print('초 : {}'.format(now3.second))\n",
    "print('마이크로초 : {}'.format(now3.microsecond))\n",
    "print('밀리초 : {}'.format(now3.microsecond // 1000))\n",
    "# weekday() 메소드는 요일을 숫자로 얻어온다. => 월요일(0), 화요일(1), 수요일(2), 목요일(3), 금요일(4), 토요일(5), 일요일(6)\n",
    "print('요일 : {}'.format(now3.weekday()))"
   ]
  },
  {
   "cell_type": "code",
   "execution_count": null,
   "id": "nasty-shade",
   "metadata": {},
   "outputs": [],
   "source": []
  },
  {
   "cell_type": "code",
   "execution_count": null,
   "id": "still-auditor",
   "metadata": {},
   "outputs": [],
   "source": []
  },
  {
   "cell_type": "code",
   "execution_count": null,
   "id": "approximate-fiction",
   "metadata": {},
   "outputs": [],
   "source": []
  },
  {
   "cell_type": "code",
   "execution_count": null,
   "id": "unusual-walker",
   "metadata": {},
   "outputs": [],
   "source": []
  },
  {
   "cell_type": "code",
   "execution_count": null,
   "id": "environmental-intention",
   "metadata": {},
   "outputs": [],
   "source": []
  },
  {
   "cell_type": "code",
   "execution_count": null,
   "id": "circular-murder",
   "metadata": {},
   "outputs": [],
   "source": []
  }
 ],
 "metadata": {
  "kernelspec": {
   "display_name": "Python 3",
   "language": "python",
   "name": "python3"
  },
  "language_info": {
   "codemirror_mode": {
    "name": "ipython",
    "version": 3
   },
   "file_extension": ".py",
   "mimetype": "text/x-python",
   "name": "python",
   "nbconvert_exporter": "python",
   "pygments_lexer": "ipython3",
   "version": "3.6.8"
  }
 },
 "nbformat": 4,
 "nbformat_minor": 5
}
