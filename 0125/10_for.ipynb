{
 "cells": [
  {
   "cell_type": "markdown",
   "metadata": {},
   "source": [
    "초기치, 최종치, 증가치에 따라 숫자 리스트를 만들어 주는 range() 함수  \n",
    "range([초기치, ]최종치[, 증가치]) => [] 안의 내용은 생략할 수 있다.  \n",
    "초기치와 최종치는 생략할 수 있으며 초기치를 생략하면 0, 증가치를 생략하면 1이 기본값으로 사용된다.  \n",
    "range(0, 10, 1)과 range(10)은 의미가 같다."
   ]
  },
  {
   "cell_type": "code",
   "execution_count": 3,
   "metadata": {},
   "outputs": [
    {
     "name": "stdout",
     "output_type": "stream",
     "text": [
      "[0, 1, 2, 3, 4, 5, 6, 7, 8, 9]\n",
      "[0, 1, 2, 3, 4, 5, 6, 7, 8, 9]\n"
     ]
    }
   ],
   "source": [
    "# range() 함수는 초기치 부터 최종치를 넘어가지 않을 때 까지 증가치 만큼 증가하는 숫자 리스트를 만든다.\n",
    "a = list(range(0, 10, 1))\n",
    "print(a)\n",
    "b = list(range(10))\n",
    "print(b)"
   ]
  },
  {
   "cell_type": "code",
   "execution_count": null,
   "metadata": {},
   "outputs": [],
   "source": []
  }
 ],
 "metadata": {
  "kernelspec": {
   "display_name": "Python 3",
   "language": "python",
   "name": "python3"
  },
  "language_info": {
   "codemirror_mode": {
    "name": "ipython",
    "version": 3
   },
   "file_extension": ".py",
   "mimetype": "text/x-python",
   "name": "python",
   "nbconvert_exporter": "python",
   "pygments_lexer": "ipython3",
   "version": "3.6.8"
  }
 },
 "nbformat": 4,
 "nbformat_minor": 4
}
