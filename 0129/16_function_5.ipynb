{
 "cells": [
  {
   "cell_type": "code",
   "execution_count": 16,
   "id": "technical-techno",
   "metadata": {},
   "outputs": [],
   "source": [
    "# 가변 인자를 사용하는 함수 => 인수의 개수가 가변적인 함수 => 가변 인자는 '*변수이름' 형태로 선언한다. => 가변 인자는 \n",
    "# 넘어오는 데이터를 튜플로 받아서 처리한다.\n",
    "# 가변 인자는 인수 목록의 맨 마지막에 딱 1번만 사용할 수 있다.\n",
    "def func7(*args):\n",
    "    # print(type(args))\n",
    "    # print(args)\n",
    "    total = 0\n",
    "    for arg in args:\n",
    "        total += arg\n",
    "    return total"
   ]
  },
  {
   "cell_type": "code",
   "execution_count": 18,
   "id": "smooth-baltimore",
   "metadata": {},
   "outputs": [
    {
     "name": "stdout",
     "output_type": "stream",
     "text": [
      "0\n",
      "1\n",
      "3\n",
      "6\n",
      "55\n"
     ]
    }
   ],
   "source": [
    "print(func7())\n",
    "print(func7(1))\n",
    "print(func7(1, 2))\n",
    "print(func7(1, 2, 3))\n",
    "print(func7(1, 2, 3, 4, 5, 6, 7, 8, 9, 10))"
   ]
  },
  {
   "cell_type": "code",
   "execution_count": null,
   "id": "million-tracy",
   "metadata": {},
   "outputs": [],
   "source": []
  }
 ],
 "metadata": {
  "kernelspec": {
   "display_name": "Python 3",
   "language": "python",
   "name": "python3"
  },
  "language_info": {
   "codemirror_mode": {
    "name": "ipython",
    "version": 3
   },
   "file_extension": ".py",
   "mimetype": "text/x-python",
   "name": "python",
   "nbconvert_exporter": "python",
   "pygments_lexer": "ipython3",
   "version": "3.6.8"
  }
 },
 "nbformat": 4,
 "nbformat_minor": 5
}
