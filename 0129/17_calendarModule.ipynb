{
 "cells": [
  {
   "cell_type": "code",
   "execution_count": 1,
   "id": "orange-flush",
   "metadata": {},
   "outputs": [],
   "source": [
    "# 인수로 년도를 넘겨받아 윤년, 평년을 판단해서 윤년이면 True, 평년이면 False를 리턴하는 함수\n",
    "# 윤년, 평년 판별식 => 년도 4로 나눠 떨어지고 100으로 나눠 떨어지지 않거나 400으로 나눠 떨어지면 윤년, 그렇치 않으면 평년\n",
    "# return 값이 논리값(True 또는 False)인 함수의 이름은 'is'로 시작하는 것이 관행이다.\n",
    "def isLeapYear(year):\n",
    "    return year % 4 == 0 and year % 100 != 0 or year % 400 == 0"
   ]
  },
  {
   "cell_type": "code",
   "execution_count": 13,
   "id": "requested-publicity",
   "metadata": {},
   "outputs": [],
   "source": [
    "# 인수로 년, 월을 넘겨받아 그 달의 마지막 날짜를 리턴하는 함수\n",
    "def lastDay(year, month):\n",
    "    # 12달의 마지막 날짜를 기억하는 리스트를 만든다. => 일단 2월의 마지막 날짜는 28일로 초기화 시킨다.\n",
    "    m = [31, 28, 31, 30, 31, 30, 31, 31, 30, 31, 30, 31]\n",
    "    # 2월의 마지막 날짜를 확정한다. => 윤년이면 마지막 날짜를 29일로 수정한다.\n",
    "    # if isLeapYear(year):\n",
    "        # m[1] = 29\n",
    "    m[1] = 29 if isLeapYear(year) else 28\n",
    "    # 인수로 넘겨받은 월에 해당되는 마지막 날짜를 리턴시킨다.\n",
    "    return m[month - 1]"
   ]
  },
  {
   "cell_type": "code",
   "execution_count": 19,
   "id": "vocational-constitutional",
   "metadata": {},
   "outputs": [],
   "source": [
    "# 인수로 년, 월, 일을 넘겨받아 1년 1월 1일 부터 지난 날짜의 합계를 리턴하는 함수\n",
    "def totalDay(year, month, day):\n",
    "    # 1년 1월 1일 부터 전년도 12월 31일 까지 지난 날짜의 계산한다.\n",
    "    total = (year - 1) * 365 + (year - 1) // 4 - (year - 1) // 100 + (year - 1) // 400\n",
    "    # 전년도 까지 지난 날짜에 전달 까지 지난 날짜를 더한다.\n",
    "    \n",
    "    # 전달 까지 지난 날짜에 일을 더해서 리턴시킨다.\n",
    "    return total + day"
   ]
  },
  {
   "cell_type": "code",
   "execution_count": null,
   "id": "divided-punishment",
   "metadata": {},
   "outputs": [],
   "source": []
  },
  {
   "cell_type": "code",
   "execution_count": 21,
   "id": "passive-curve",
   "metadata": {},
   "outputs": [
    {
     "name": "stdout",
     "output_type": "stream",
     "text": [
      "False\n",
      "31\n",
      "737424\n"
     ]
    }
   ],
   "source": [
    "print(isLeapYear(2021))\n",
    "print(lastDay(2021, 1))\n",
    "print(totalDay(2020, 1, 29))"
   ]
  },
  {
   "cell_type": "code",
   "execution_count": null,
   "id": "offshore-messaging",
   "metadata": {},
   "outputs": [],
   "source": []
  }
 ],
 "metadata": {
  "kernelspec": {
   "display_name": "Python 3",
   "language": "python",
   "name": "python3"
  },
  "language_info": {
   "codemirror_mode": {
    "name": "ipython",
    "version": 3
   },
   "file_extension": ".py",
   "mimetype": "text/x-python",
   "name": "python",
   "nbconvert_exporter": "python",
   "pygments_lexer": "ipython3",
   "version": "3.6.8"
  }
 },
 "nbformat": 4,
 "nbformat_minor": 5
}
