{
 "cells": [
  {
   "cell_type": "code",
   "execution_count": 5,
   "metadata": {},
   "outputs": [
    {
     "name": "stdout",
     "output_type": "stream",
     "text": [
      "Python is Good\n",
      "Hello\n",
      "World\n"
     ]
    }
   ],
   "source": [
    "# 큰따옴표나 작은따옴표로 묶어주면 문자열 데이터로 취급된다.\n",
    "memo = 'Python is Good'\n",
    "print(memo)\n",
    "memo = \"Hello\\nWorld\"\n",
    "print(memo)"
   ]
  },
  {
   "cell_type": "code",
   "execution_count": 7,
   "metadata": {},
   "outputs": [
    {
     "name": "stdout",
     "output_type": "stream",
     "text": [
      "개울가에\n",
      "올챙이 한마리\n",
      "꼬물꼬물 헤엄치다\n",
      "앞다리가 쏘옥\n",
      "뒤다리가 쑤욱\n",
      "팔딱팔딱 메뚜기됬네\n",
      "\n"
     ]
    }
   ],
   "source": [
    "# 큰따옴표 3개를 연속해서 사용하면 개행 문자(\\n)를 사용하지 않고 여러줄 문자열을 만들 수 있다.\n",
    "memo = \"\"\"개울가에\n",
    "올챙이 한마리\n",
    "꼬물꼬물 헤엄치다\n",
    "앞다리가 쏘옥\n",
    "뒤다리가 쑤욱\n",
    "팔딱팔딱 메뚜기됬네\n",
    "\"\"\"\n",
    "print(memo)"
   ]
  },
  {
   "cell_type": "code",
   "execution_count": 8,
   "metadata": {},
   "outputs": [],
   "source": [
    "# 문자열의 인덱싱과 슬라이싱 => 인덱스는 0부터 시작된다.\n",
    "# 인덱싱   => 문자열에서 특정 위치의 문자 1개를 얻어온다.\n",
    "# 슬라이싱 => 문자열에서 지정된 범위의 문자열을 얻어온다. => 여러개를 얻어온다."
   ]
  },
  {
   "cell_type": "code",
   "execution_count": 14,
   "metadata": {},
   "outputs": [
    {
     "name": "stdout",
     "output_type": "stream",
     "text": [
      "W\n",
      "<class 'str'>\n",
      "c\n",
      "!\n",
      "!\n"
     ]
    }
   ],
   "source": [
    "# 문자열 인덱싱\n",
    "string = 'We are the champions, My friends!'\n",
    "print(string[0])\n",
    "print(type(string[0]))\n",
    "print(string[11])\n",
    "print(string[32])\n",
    "# 파이썬은 음수 인덱싱이 가능한다. 인덱스에 '-'를 붙여주면 맨 뒤부터 인덱싱을 할 수 있다.\n",
    "print(string[-1])"
   ]
  },
  {
   "cell_type": "code",
   "execution_count": 21,
   "metadata": {},
   "outputs": [
    {
     "name": "stdout",
     "output_type": "stream",
     "text": [
      "W\n",
      "champions\n",
      "We are the champions\n",
      "We are the champions\n",
      "My friends!\n",
      "My friends!\n",
      "We are the champions, My friends!\n"
     ]
    }
   ],
   "source": [
    "# 문자열 슬라이싱\n",
    "# 슬라이싱 범위는 [시작위치:끝위치] 형태로 지정하며 시작 위치 부터 끝 위치 -1 번째 문자까지 얻어온다.\n",
    "string = 'We are the champions, My friends!'\n",
    "print(string[0:1])\n",
    "print(string[11:20])\n",
    "# 시작 위치를 생략하면 처음부터 슬라이싱 하고 끝 위치를 생략하면 마지막까지 슬라이싱 한다.\n",
    "print(string[0:20])\n",
    "print(string[:20])\n",
    "print(string[22:33])\n",
    "print(string[22:])\n",
    "print(string[:])"
   ]
  },
  {
   "cell_type": "code",
   "execution_count": null,
   "metadata": {},
   "outputs": [],
   "source": []
  },
  {
   "cell_type": "code",
   "execution_count": null,
   "metadata": {},
   "outputs": [],
   "source": []
  },
  {
   "cell_type": "code",
   "execution_count": null,
   "metadata": {},
   "outputs": [],
   "source": []
  },
  {
   "cell_type": "code",
   "execution_count": null,
   "metadata": {},
   "outputs": [],
   "source": []
  },
  {
   "cell_type": "code",
   "execution_count": null,
   "metadata": {},
   "outputs": [],
   "source": []
  }
 ],
 "metadata": {
  "kernelspec": {
   "display_name": "Python 3",
   "language": "python",
   "name": "python3"
  },
  "language_info": {
   "codemirror_mode": {
    "name": "ipython",
    "version": 3
   },
   "file_extension": ".py",
   "mimetype": "text/x-python",
   "name": "python",
   "nbconvert_exporter": "python",
   "pygments_lexer": "ipython3",
   "version": "3.6.8"
  }
 },
 "nbformat": 4,
 "nbformat_minor": 4
}
