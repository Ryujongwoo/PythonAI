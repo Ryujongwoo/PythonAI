{
 "cells": [
  {
   "cell_type": "code",
   "execution_count": null,
   "metadata": {},
   "outputs": [],
   "source": [
    "# 변수(variable)는 처리할 데이터(상수, constant)를 저장하는 기억장소를 말한다.\n",
    "# 변수이름 작성방법\n",
    "# 영문자(대소문자를 구분한다.), 숫자, 특수문자(_)만 사용할 수 있으며 반드시 문자로 시작해야 한다.\n",
    "# 카멜 표기법(헝가리안 표기법) => totalCount와 같이 변수 이름이 2개 이상의 단어가 합쳐져서 구성될 때 2번째 이후 단어의\n",
    "# 첫 문자를 대문자로 표기한다."
   ]
  },
  {
   "cell_type": "code",
   "execution_count": null,
   "metadata": {},
   "outputs": [],
   "source": [
    "# 파이썬은 C/C++이나 JAVA와 달리 변수를 선언할 때 번수의 자료형을 지정하지 않는다.\n",
    "# 변수에 저장되는 데이터의 타입에 따라서 자동으로 변수의 자료형이 결정된다. => javascript도 이런 방식을 사용한다.\n",
    "# '='는 같다라는 의미로 사용되지 않고 '=' 오른쪽의 데이터를 '=' 왼쪽의 기억장소에 저장하라는 의미로 사용된다. => 대입문\n",
    "# 같다는 '=='와 같이 2개를 연속해서 사용해야 같다로 인식한다.\n",
    "a = '홍길동'\n",
    "print(a)\n",
    "print(type(a)) # <class 'str'> => 문자열\n",
    "a = 100\n",
    "print(a)\n",
    "print(type(a)) # <class 'int'> => 정수\n",
    "a = 3.14\n",
    "print(a)\n",
    "print(type(a)) # <class 'float'> => 실수\n",
    "# 파이썬은 참, 거짓을 의미하는 True와 False가 있다. => 반드시 첫 문자만 대문자로 써야한다.\n",
    "a = True\n",
    "print(a)\n",
    "print(type(a)) # <class 'bool'> => 논리값"
   ]
  },
  {
   "cell_type": "code",
   "execution_count": null,
   "metadata": {},
   "outputs": [],
   "source": [
    "# 더 이상 필요없는 변수는 del 명령으로 삭제시킬 수 있다.\n",
    "print(a)\n",
    "del a\n",
    "print(a)"
   ]
  },
  {
   "cell_type": "code",
   "execution_count": 2,
   "metadata": {},
   "outputs": [
    {
     "name": "stdout",
     "output_type": "stream",
     "text": [
      "이름을 입력하세요 : 홍길동\n",
      "<class 'str'>\n",
      "홍길동님 안녕하세요\n"
     ]
    }
   ],
   "source": [
    "# input() 함수로 키보드로 입력하는 데이터를 받을 수 있다. => 무조건 문자열 형태로 입력받는다.\n",
    "# input('메시지') : 메시지를 화면에 출력하고 데이터를 입력받는다.\n",
    "name = input('이름을 입력하세요 : ')\n",
    "print(type(name))\n",
    "print('{}님 안녕하세요'.format(name))"
   ]
  },
  {
   "cell_type": "code",
   "execution_count": 7,
   "metadata": {},
   "outputs": [
    {
     "name": "stdout",
     "output_type": "stream",
     "text": [
      "나이를 입력하세요 : 20\n",
      "<class 'float'>\n",
      "홍길동님은 20.0살 입니다.\n",
      "홍길동님은 내년에 21.0살 입니다.\n"
     ]
    }
   ],
   "source": [
    "# input() 함수는 무조건 문자열 형태로 데이터를 입력받기 때문에 정수나 실수 데이터를 입력받으려면 일단 입력받은 후 int()\n",
    "# 함수나 float() 함수를 사용해서 숫자로 변환시킨 후 사용해야 한다.\n",
    "age = int(input('나이를 입력하세요 : '))\n",
    "print(type(age))\n",
    "print('{}님은 {}살 입니다.'.format(name, age))\n",
    "print('{}님은 내년에 {}살 입니다.'.format(name, age + 1))"
   ]
  },
  {
   "cell_type": "code",
   "execution_count": 9,
   "metadata": {},
   "outputs": [
    {
     "name": "stdout",
     "output_type": "stream",
     "text": [
      "나이를 입력하세요 : 20\n",
      "홍길동님은 20살 입니다.\n",
      "홍길동님은 내년에 21살 입니다.\n"
     ]
    }
   ],
   "source": [
    "age = input('나이를 입력하세요 : ')\n",
    "print('{}님은 {}살 입니다.'.format(name, age))\n",
    "print('{}님은 내년에 {}살 입니다.'.format(name, int(age) + 1))"
   ]
  },
  {
   "cell_type": "code",
   "execution_count": 2,
   "metadata": {},
   "outputs": [
    {
     "name": "stdout",
     "output_type": "stream",
     "text": [
      "Hello Python\n",
      "['Hello', 'Python']\n"
     ]
    }
   ],
   "source": [
    "# split() 메소드를 사용하면 구분자를 경계로 문자열을 나눌 수 있다. => 구분자를 지정하지 않으면 공백이 기본 구분자로 사용된다.\n",
    "print('Hello Python')\n",
    "print('Hello Python'.split())"
   ]
  },
  {
   "cell_type": "code",
   "execution_count": 3,
   "metadata": {},
   "outputs": [
    {
     "name": "stdout",
     "output_type": "stream",
     "text": [
      "이름과 나이를 입력하세요 : 홍길동 20\n",
      "홍길동님은 20살 입니다.\n",
      "홍길동님은 내년에 21살 입니다.\n"
     ]
    }
   ],
   "source": [
    "name, age = input('이름과 나이를 입력하세요 : ').split()\n",
    "print('{}님은 {}살 입니다.'.format(name, age))\n",
    "print('{}님은 내년에 {}살 입니다.'.format(name, int(age) + 1))"
   ]
  },
  {
   "cell_type": "code",
   "execution_count": 5,
   "metadata": {},
   "outputs": [
    {
     "name": "stdout",
     "output_type": "stream",
     "text": [
      "세 과목 점수를 입력하세요 : 100 100 99\n",
      "총점 : 10010099\n",
      "총점 : 299\n"
     ]
    }
   ],
   "source": [
    "python, java, android = input('세 과목 점수를 입력하세요 : ').split()\n",
    "print('총점 : {}'.format(python + java + android))\n",
    "print('총점 : {}'.format(int(python) + int(java) + int(android)))"
   ]
  },
  {
   "cell_type": "code",
   "execution_count": 6,
   "metadata": {},
   "outputs": [
    {
     "name": "stdout",
     "output_type": "stream",
     "text": [
      "세 과목 점수를 입력하세요 : 100 100 99\n",
      "총점 : 299\n"
     ]
    }
   ],
   "source": [
    "# map() 함수를 사용하면 입력받은 데이터를 split() 메소드로 공백을 경계로 나눠서 한꺼번에 숫자로 변환할 수 있다.\n",
    "# map(자료형(int 또는 float), input('입력 메시지 : ')split())\n",
    "python, java, android = map(int, input('세 과목 점수를 입력하세요 : ').split())\n",
    "print('총점 : {}'.format(python + java + android))"
   ]
  },
  {
   "cell_type": "code",
   "execution_count": null,
   "metadata": {},
   "outputs": [],
   "source": []
  },
  {
   "cell_type": "code",
   "execution_count": null,
   "metadata": {},
   "outputs": [],
   "source": []
  },
  {
   "cell_type": "code",
   "execution_count": null,
   "metadata": {},
   "outputs": [],
   "source": []
  },
  {
   "cell_type": "code",
   "execution_count": null,
   "metadata": {},
   "outputs": [],
   "source": []
  }
 ],
 "metadata": {
  "kernelspec": {
   "display_name": "Python 3",
   "language": "python",
   "name": "python3"
  },
  "language_info": {
   "codemirror_mode": {
    "name": "ipython",
    "version": 3
   },
   "file_extension": ".py",
   "mimetype": "text/x-python",
   "name": "python",
   "nbconvert_exporter": "python",
   "pygments_lexer": "ipython3",
   "version": "3.6.8"
  }
 },
 "nbformat": 4,
 "nbformat_minor": 4
}
