{
 "cells": [
  {
   "cell_type": "code",
   "execution_count": 1,
   "metadata": {},
   "outputs": [],
   "source": [
    "# 리스트 만들기 => 다른 언어의 배열과 유사하다.\n",
    "# 리스트를 만들때는 데이터를 []로 감싸주고 각각의 데이터는 ','로 구분한다."
   ]
  },
  {
   "cell_type": "code",
   "execution_count": 4,
   "metadata": {},
   "outputs": [
    {
     "name": "stdout",
     "output_type": "stream",
     "text": [
      "<class 'list'>\n",
      "[]\n",
      "<class 'list'>\n",
      "[]\n"
     ]
    }
   ],
   "source": [
    "# 빈 리스트 만들기\n",
    "a = []\n",
    "print(type(a))\n",
    "print(a)\n",
    "# 빈 리스트는 생성자 함수를 이용해서도 만들 수 있다.\n",
    "b = list()\n",
    "print(type(b))\n",
    "print(b)"
   ]
  },
  {
   "cell_type": "code",
   "execution_count": 10,
   "metadata": {},
   "outputs": [
    {
     "name": "stdout",
     "output_type": "stream",
     "text": [
      "[1, 2, 3]\n",
      "['A', 'B', 'C']\n",
      "[1, 2, 'A', 'B']\n",
      "[1, 2, ['A', 'B']]\n",
      "[[1, 2], ['A', 'B']]\n"
     ]
    }
   ],
   "source": [
    "c = [1, 2, 3]\n",
    "print(c)\n",
    "d = ['A', 'B', 'C']\n",
    "print(d)\n",
    "e = [1, 2, 'A', 'B']\n",
    "print(e)\n",
    "f = [1, 2, ['A', 'B']]\n",
    "print(f)\n",
    "g = [[1, 2], ['A', 'B']]\n",
    "print(g)"
   ]
  },
  {
   "cell_type": "markdown",
   "metadata": {},
   "source": [
    "리스트 인덱싱"
   ]
  },
  {
   "cell_type": "code",
   "execution_count": 13,
   "metadata": {},
   "outputs": [
    {
     "name": "stdout",
     "output_type": "stream",
     "text": [
      "[10, 20, 30, 40, 50]\n",
      "10\n",
      "50\n"
     ]
    }
   ],
   "source": [
    "a = [10, 20, 30, 40, 50]\n",
    "print(a)\n",
    "print(a[0])\n",
    "print(a[-1])"
   ]
  },
  {
   "cell_type": "code",
   "execution_count": 19,
   "metadata": {},
   "outputs": [
    {
     "name": "stdout",
     "output_type": "stream",
     "text": [
      "[10, 20, 30, ['a', 'b', 'c']]\n",
      "4\n",
      "10\n",
      "['a', 'b', 'c']\n",
      "['a', 'b', 'c']\n",
      "b\n"
     ]
    }
   ],
   "source": [
    "b = [10, 20, 30, ['a', 'b', 'c']]\n",
    "print(b)\n",
    "print(len(b)) # 리스트에서 len() 함수를 사용하면 리스트를 구성하는 데이터의 개수를 얻어올 수 있다.\n",
    "print(b[0])\n",
    "print(b[3])\n",
    "print(b[-1])\n",
    "print(b[3][1])"
   ]
  },
  {
   "cell_type": "code",
   "execution_count": 25,
   "metadata": {},
   "outputs": [
    {
     "name": "stdout",
     "output_type": "stream",
     "text": [
      "[10, 20, ['a', 'b', ['AAA', 'BBB', 'CCC']]]\n",
      "3\n",
      "3\n",
      "b\n",
      "BBB\n"
     ]
    }
   ],
   "source": [
    "c = [10, 20, ['a', 'b', ['AAA', 'BBB', 'CCC']]]\n",
    "print(c)\n",
    "print(len(c))\n",
    "print(len(c[2]))\n",
    "print(c[2][1])\n",
    "print(c[2][2][1])"
   ]
  },
  {
   "cell_type": "markdown",
   "metadata": {},
   "source": [
    "리스트 슬라이싱"
   ]
  },
  {
   "cell_type": "code",
   "execution_count": 35,
   "metadata": {},
   "outputs": [
    {
     "name": "stdout",
     "output_type": "stream",
     "text": [
      "[10, 20, 30, 40, 50]\n",
      "<class 'int'>\n",
      "10\n",
      "<class 'list'>\n",
      "[10]\n",
      "[10, 20, 30]\n",
      "[10, 20, 30]\n",
      "[30, 40, 50]\n",
      "[30, 40, 50]\n",
      "[10, 20, 30, 40, 50]\n"
     ]
    }
   ],
   "source": [
    "a = [10, 20, 30, 40, 50]\n",
    "print(a)\n",
    "print(type(a[0]))\n",
    "print(a[0])   # 인덱싱을 사용하면 인덱싱 결과를 상수로 얻어온다.\n",
    "print(type(a[0:1]))\n",
    "print(a[0:1]) # 슬라이싱을 사용하면 슬라이싱 결과를 리스트로 얻어온다.\n",
    "print(a[0:3])\n",
    "print(a[:3])\n",
    "print(a[2:5])\n",
    "print(a[2:])\n",
    "print(a[:])"
   ]
  },
  {
   "cell_type": "markdown",
   "metadata": {},
   "source": [
    "리스트 연산자"
   ]
  },
  {
   "cell_type": "code",
   "execution_count": 36,
   "metadata": {},
   "outputs": [
    {
     "name": "stdout",
     "output_type": "stream",
     "text": [
      "[1, 2, 3, 4, 5, 6, 7]\n"
     ]
    }
   ],
   "source": [
    "# '+' 연산자는 두 개의 리스트를 연결한다.\n",
    "print([1, 2, 3] + [4, 5, 6, 7])"
   ]
  },
  {
   "cell_type": "code",
   "execution_count": 37,
   "metadata": {},
   "outputs": [
    {
     "name": "stdout",
     "output_type": "stream",
     "text": [
      "[1, 2, 3, 1, 2, 3, 1, 2, 3]\n"
     ]
    }
   ],
   "source": [
    "# '*' 연산자는 리스트를 지정한 횟수 만큼 반복한다.\n",
    "print([1, 2, 3] * 3)"
   ]
  },
  {
   "cell_type": "markdown",
   "metadata": {},
   "source": [
    "리스트의 수정 및 삭제"
   ]
  },
  {
   "cell_type": "code",
   "execution_count": 48,
   "metadata": {},
   "outputs": [
    {
     "name": "stdout",
     "output_type": "stream",
     "text": [
      "[10, 20, 30]\n",
      "[40, 20, 30]\n",
      "[40, 99, 30]\n",
      "[40, 99, [111, 222, 333]]\n"
     ]
    }
   ],
   "source": [
    "# 리스트를 인덱싱을 사용해 수정하려면 상수를 넣어야 하고 슬라이싱을 사용해 수정하려면 리스트를 넣어야 한다.\n",
    "a = [10, 20, 30]\n",
    "print(a)\n",
    "a[0] = 40\n",
    "print(a)\n",
    "# a[1:2] = 99 # 슬라이싱 결과는 리스트이기 때문에 상수를 넣을 수 없다는 에러가 발생된다.\n",
    "a[1:2] = [99]\n",
    "print(a)\n",
    "# 리스트를 인덱싱을 사용해 수정할 때 리스트를 넣어주면 리스트 자체로 수정된다.\n",
    "a[2] = [111, 222, 333]\n",
    "print(a)"
   ]
  },
  {
   "cell_type": "code",
   "execution_count": 49,
   "metadata": {},
   "outputs": [
    {
     "name": "stdout",
     "output_type": "stream",
     "text": [
      "[40, [111, 222, 333]]\n",
      "[40]\n"
     ]
    }
   ],
   "source": [
    "# 인덱싱 방식은 del 명령으로 삭제한다.\n",
    "del a[1]\n",
    "print(a)\n",
    "# 슬라이싱 방식은 빈 리스트를 넣어주면 삭제되는 것 처럼 보인다.\n",
    "a[1:2] = []\n",
    "print(a)"
   ]
  },
  {
   "cell_type": "code",
   "execution_count": 50,
   "metadata": {},
   "outputs": [
    {
     "ename": "NameError",
     "evalue": "name 'a' is not defined",
     "output_type": "error",
     "traceback": [
      "\u001b[1;31m---------------------------------------------------------------------------\u001b[0m",
      "\u001b[1;31mNameError\u001b[0m                                 Traceback (most recent call last)",
      "\u001b[1;32m<ipython-input-50-88a69e9fefb2>\u001b[0m in \u001b[0;36m<module>\u001b[1;34m\u001b[0m\n\u001b[0;32m      1\u001b[0m \u001b[1;31m# del 명령 뒤에 리스트 이름만 쓰면 리스트 자체가 삭제된다.\u001b[0m\u001b[1;33m\u001b[0m\u001b[1;33m\u001b[0m\u001b[1;33m\u001b[0m\u001b[0m\n\u001b[0;32m      2\u001b[0m \u001b[1;32mdel\u001b[0m \u001b[0ma\u001b[0m\u001b[1;33m\u001b[0m\u001b[1;33m\u001b[0m\u001b[0m\n\u001b[1;32m----> 3\u001b[1;33m \u001b[0mprint\u001b[0m\u001b[1;33m(\u001b[0m\u001b[0ma\u001b[0m\u001b[1;33m)\u001b[0m\u001b[1;33m\u001b[0m\u001b[1;33m\u001b[0m\u001b[0m\n\u001b[0m",
      "\u001b[1;31mNameError\u001b[0m: name 'a' is not defined"
     ]
    }
   ],
   "source": [
    "# del 명령 뒤에 리스트 이름만 쓰면 리스트 자체가 삭제된다.\n",
    "del a\n",
    "print(a)"
   ]
  },
  {
   "cell_type": "markdown",
   "metadata": {},
   "source": [
    "리스트 메소드"
   ]
  },
  {
   "cell_type": "code",
   "execution_count": 52,
   "metadata": {},
   "outputs": [
    {
     "name": "stdout",
     "output_type": "stream",
     "text": [
      "[10, 20, 30]\n",
      "[10, 20, 30, 100]\n"
     ]
    }
   ],
   "source": [
    "# append() 메소드는 리스트의 맨 뒤에 인수로 지정한 데이터를 추가한다.\n",
    "a = [10, 20, 30]\n",
    "print(a)\n",
    "a.append(100)\n",
    "print(a)"
   ]
  },
  {
   "cell_type": "code",
   "execution_count": 53,
   "metadata": {},
   "outputs": [
    {
     "name": "stdout",
     "output_type": "stream",
     "text": [
      "[10, 20, 30]\n",
      "[10, 100, 20, 30]\n"
     ]
    }
   ],
   "source": [
    "# insert() 메소드는 리스트의 지정된 index에 인수로 지정한 데이터를 삽입한다.\n",
    "a = [10, 20, 30]\n",
    "print(a)\n",
    "a.insert(1, 100)\n",
    "print(a)"
   ]
  },
  {
   "cell_type": "code",
   "execution_count": 59,
   "metadata": {},
   "outputs": [
    {
     "name": "stdout",
     "output_type": "stream",
     "text": [
      "[8, 3, 4, 9, 1]\n",
      "[1, 3, 4, 8, 9]\n",
      "['d', 'b', 'c', 'a']\n",
      "['a', 'b', 'c', 'd']\n",
      "['홍길동', '임꺽정', '장길산', '일지매']\n",
      "['일지매', '임꺽정', '장길산', '홍길동']\n",
      "[9, 8, 4, 3, 1]\n",
      "['d', 'c', 'b', 'a']\n",
      "['홍길동', '장길산', '임꺽정', '일지매']\n"
     ]
    }
   ],
   "source": [
    "# sort() 메소드는 리스트에 저장된 데이터를 오름차순(한글은 가나다순, 영여는 abc순)으로 정렬한다.\n",
    "a = [8, 3, 4, 9, 1]\n",
    "print(a)\n",
    "a.sort()\n",
    "print(a)\n",
    "\n",
    "b = ['d', 'b', 'c', 'a']\n",
    "print(b)\n",
    "b.sort()\n",
    "print(b)\n",
    "\n",
    "c = ['홍길동', '임꺽정', '장길산', '일지매']\n",
    "print(c)\n",
    "c.sort()\n",
    "print(c)\n",
    "\n",
    "# sort() 메소드에 reverse = True 옵션을 지정하면 내림차순으로 정렬된다.\n",
    "a.sort(reverse = True)\n",
    "print(a)\n",
    "b.sort(reverse = True)\n",
    "print(b)\n",
    "c.sort(reverse = True)\n",
    "print(c)"
   ]
  },
  {
   "cell_type": "code",
   "execution_count": 61,
   "metadata": {},
   "outputs": [
    {
     "name": "stdout",
     "output_type": "stream",
     "text": [
      "[100, '010', 55, '12345']\n"
     ]
    },
    {
     "ename": "TypeError",
     "evalue": "'<' not supported between instances of 'str' and 'int'",
     "output_type": "error",
     "traceback": [
      "\u001b[1;31m---------------------------------------------------------------------------\u001b[0m",
      "\u001b[1;31mTypeError\u001b[0m                                 Traceback (most recent call last)",
      "\u001b[1;32m<ipython-input-61-ec15aad56511>\u001b[0m in \u001b[0;36m<module>\u001b[1;34m\u001b[0m\n\u001b[0;32m      1\u001b[0m \u001b[0ma\u001b[0m \u001b[1;33m=\u001b[0m \u001b[1;33m[\u001b[0m\u001b[1;36m100\u001b[0m\u001b[1;33m,\u001b[0m \u001b[1;34m'010'\u001b[0m\u001b[1;33m,\u001b[0m \u001b[1;36m55\u001b[0m\u001b[1;33m,\u001b[0m \u001b[1;34m'12345'\u001b[0m\u001b[1;33m]\u001b[0m\u001b[1;33m\u001b[0m\u001b[1;33m\u001b[0m\u001b[0m\n\u001b[0;32m      2\u001b[0m \u001b[0mprint\u001b[0m\u001b[1;33m(\u001b[0m\u001b[0ma\u001b[0m\u001b[1;33m)\u001b[0m\u001b[1;33m\u001b[0m\u001b[1;33m\u001b[0m\u001b[0m\n\u001b[1;32m----> 3\u001b[1;33m \u001b[0ma\u001b[0m\u001b[1;33m.\u001b[0m\u001b[0msort\u001b[0m\u001b[1;33m(\u001b[0m\u001b[1;33m)\u001b[0m\u001b[1;33m\u001b[0m\u001b[1;33m\u001b[0m\u001b[0m\n\u001b[0m",
      "\u001b[1;31mTypeError\u001b[0m: '<' not supported between instances of 'str' and 'int'"
     ]
    }
   ],
   "source": [
    "a = [100, '010', 55, '12345']\n",
    "print(a)\n",
    "# sort() 메소드는 sort() 메소드를 실행하려는 리스트에 같은 타입의 데이터가 저장되어 있을 경우에만 가능하다.\n",
    "a.sort()"
   ]
  },
  {
   "cell_type": "code",
   "execution_count": 62,
   "metadata": {},
   "outputs": [
    {
     "name": "stdout",
     "output_type": "stream",
     "text": [
      "['홍길동', '임꺽정', '장길산', '일지매']\n",
      "['일지매', '장길산', '임꺽정', '홍길동']\n"
     ]
    }
   ],
   "source": [
    "# reverse() 메소드는 리스트에 저장된 데이터의 순서를 뒤집는다.\n",
    "a = ['홍길동', '임꺽정', '장길산', '일지매']\n",
    "print(a)\n",
    "a.reverse()\n",
    "print(a)"
   ]
  },
  {
   "cell_type": "code",
   "execution_count": 65,
   "metadata": {},
   "outputs": [
    {
     "name": "stdout",
     "output_type": "stream",
     "text": [
      "[1, 2, 3, 4, 3, 5, 3]\n",
      "3\n",
      "0\n"
     ]
    }
   ],
   "source": [
    "# count() 메소드는 인수로 지정된 데이터가 리스트에 포함되어있는 개수를 얻어온다.\n",
    "# count() 메소드 실행 결과가 0이면 인수로 지정된 데이터가 리스트에 없다는 의미이다.\n",
    "# count() 메소드 실행 결과가 1이면 인수로 지정된 데이터가 리스트에 포함되어있다는 의미이다.\n",
    "# count() 메소드 실행 결과가 2이상 이면 인수로 지정된 데이터가 리스트에 중복되서 포함되어있다는 의미이다.\n",
    "a = [1, 2, 3, 4, 3, 5, 3]\n",
    "print(a)\n",
    "print(a.count(3))\n",
    "print(a.count(6))"
   ]
  },
  {
   "cell_type": "code",
   "execution_count": 66,
   "metadata": {},
   "outputs": [
    {
     "name": "stdout",
     "output_type": "stream",
     "text": [
      "[1, 2, 3, 4, 3, 5, 3]\n",
      "2\n"
     ]
    },
    {
     "ename": "ValueError",
     "evalue": "6 is not in list",
     "output_type": "error",
     "traceback": [
      "\u001b[1;31m---------------------------------------------------------------------------\u001b[0m",
      "\u001b[1;31mValueError\u001b[0m                                Traceback (most recent call last)",
      "\u001b[1;32m<ipython-input-66-786011514ae0>\u001b[0m in \u001b[0;36m<module>\u001b[1;34m\u001b[0m\n\u001b[0;32m      6\u001b[0m \u001b[0mprint\u001b[0m\u001b[1;33m(\u001b[0m\u001b[0ma\u001b[0m\u001b[1;33m)\u001b[0m\u001b[1;33m\u001b[0m\u001b[1;33m\u001b[0m\u001b[0m\n\u001b[0;32m      7\u001b[0m \u001b[0mprint\u001b[0m\u001b[1;33m(\u001b[0m\u001b[0ma\u001b[0m\u001b[1;33m.\u001b[0m\u001b[0mindex\u001b[0m\u001b[1;33m(\u001b[0m\u001b[1;36m3\u001b[0m\u001b[1;33m)\u001b[0m\u001b[1;33m)\u001b[0m\u001b[1;33m\u001b[0m\u001b[1;33m\u001b[0m\u001b[0m\n\u001b[1;32m----> 8\u001b[1;33m \u001b[0mprint\u001b[0m\u001b[1;33m(\u001b[0m\u001b[0ma\u001b[0m\u001b[1;33m.\u001b[0m\u001b[0mindex\u001b[0m\u001b[1;33m(\u001b[0m\u001b[1;36m6\u001b[0m\u001b[1;33m)\u001b[0m\u001b[1;33m)\u001b[0m\u001b[1;33m\u001b[0m\u001b[1;33m\u001b[0m\u001b[0m\n\u001b[0m",
      "\u001b[1;31mValueError\u001b[0m: 6 is not in list"
     ]
    }
   ],
   "source": [
    "# index() 메소드는 인수로 지정된 데이터가 리스트에 최초로 출현하는 위치를 얻어온다.\n",
    "# index() 메소드 실행 결과가 0이상 이면 인수로 지정된 데이터가 리스트에 포함되어있다는 의미이다.\n",
    "a = [1, 2, 3, 4, 3, 5, 3]\n",
    "print(a)\n",
    "print(a.index(3))\n",
    "print(a.index(6)) # index() 메소드의 인수로 지정한 데이터가 리스트에 없으면 에러가 발생된다."
   ]
  },
  {
   "cell_type": "code",
   "execution_count": null,
   "metadata": {},
   "outputs": [],
   "source": []
  },
  {
   "cell_type": "code",
   "execution_count": null,
   "metadata": {},
   "outputs": [],
   "source": []
  }
 ],
 "metadata": {
  "kernelspec": {
   "display_name": "Python 3",
   "language": "python",
   "name": "python3"
  },
  "language_info": {
   "codemirror_mode": {
    "name": "ipython",
    "version": 3
   },
   "file_extension": ".py",
   "mimetype": "text/x-python",
   "name": "python",
   "nbconvert_exporter": "python",
   "pygments_lexer": "ipython3",
   "version": "3.6.8"
  }
 },
 "nbformat": 4,
 "nbformat_minor": 4
}
