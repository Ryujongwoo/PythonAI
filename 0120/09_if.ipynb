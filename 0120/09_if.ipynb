{
 "cells": [
  {
   "cell_type": "markdown",
   "metadata": {},
   "source": [
    "if 명령의 형식  \n",
    "if 조건식:  \n",
    "&nbsp;&nbsp;&nbsp;&nbsp;조건식이 참일 경우 실행할 문장  \n",
    "&nbsp;&nbsp;&nbsp;&nbsp;...  \n",
    "else:  \n",
    "&nbsp;&nbsp;&nbsp;&nbsp;조건식이 거짓일 경우 실행할 문장  \n",
    "&nbsp;&nbsp;&nbsp;&nbsp;...\n",
    "\n",
    "조건을 만족하지 않을 때 아무런 일도 하지 않는다면 else 이하를 생략할 수 있다."
   ]
  },
  {
   "cell_type": "code",
   "execution_count": 10,
   "metadata": {},
   "outputs": [
    {
     "data": {
      "image/png": "[encoded data removed]",
      "text/plain": [
       "<IPython.core.display.Image object>"
      ]
     },
     "execution_count": 10,
     "metadata": {
      "image/png": {
       "width": "900"
      }
     },
     "output_type": "execute_result"
    }
   ],
   "source": [
    "# 관계(비교) 연산자 => 연산 결과는 무조건 참(True) 또는 거짓(False)이다.\n",
    "# >  : 크다, 초과\n",
    "# >= : 크거나 같다, 이상\n",
    "# <  : 작다, 미만\n",
    "# <= : 작거나 같다, 이하\n",
    "# == : 같다\n",
    "# != : 같지 않다\n",
    "\n",
    "# 논리 연산자 => 연산 결과는 무조건 참(True) 또는 거짓(False)이다.\n",
    "# and : 논리곱, 두 조건이 모두 참일 경우에만 참, ~이고, ~이면서, ~중에서\n",
    "# or  : 논리합, 두 조건 중에서 하나 이상 참일 경에 참, ~또는, ~이거나\n",
    "# not : 논리 부정\n",
    "\n",
    "from IPython.display import Image\n",
    "Image('./andornot.png', width = '900')"
   ]
  },
  {
   "cell_type": "code",
   "execution_count": null,
   "metadata": {},
   "outputs": [],
   "source": [
    "# 산술 연산자(() => ** => *, /, //, % => +, -) => 관계 연산자 => 논리 연산자(not => and => or)"
   ]
  },
  {
   "cell_type": "code",
   "execution_count": 12,
   "metadata": {},
   "outputs": [
    {
     "name": "stdout",
     "output_type": "stream",
     "text": [
      "나이를 입력하세요 : 18\n",
      "청소년 여러분 이제는 집으로 돌아가야 할 시간입니다.\n"
     ]
    }
   ],
   "source": [
    "age = int(input('나이를 입력하세요 : '))\n",
    "# print(type(age))\n",
    "\n",
    "if age >= 19:\n",
    "    print('성인입니다. 어서오세요')\n",
    "else:\n",
    "    print('청소년 여러분 이제는 집으로 돌아가야 할 시간입니다.')"
   ]
  },
  {
   "cell_type": "code",
   "execution_count": 25,
   "metadata": {},
   "outputs": [
    {
     "name": "stdout",
     "output_type": "stream",
     "text": [
      "주민등록번호 13자리를 \"-\"없이 입력하세요 : 8304225185600\n",
      "남자\n",
      "남자\n",
      "남자\n",
      "남자\n",
      "남자\n"
     ]
    }
   ],
   "source": [
    "jumin = input('주민등록번호 13자리를 \"-\"없이 입력하세요 : ')\n",
    "# print(jumin)\n",
    "# print(jumin[6])\n",
    "\n",
    "if jumin[6] == '1' or jumin[6] == '3' or jumin[6] == '5':\n",
    "    print('남자')\n",
    "else:\n",
    "    print('여자')\n",
    "\n",
    "if jumin[6] in ['1', '3', '5']: # in과 반대 작업이 실행되는 not in도 있다.\n",
    "    print('남자')\n",
    "else:\n",
    "    print('여자')   \n",
    "    \n",
    "if int(jumin[6]) == 1 or int(jumin[6]) == 3 or int(jumin[6]) == 5:\n",
    "    print('남자')\n",
    "else:\n",
    "    print('여자')\n",
    "\n",
    "if int(jumin[6]) in (1, 3, 5):\n",
    "    print('남자')\n",
    "else:\n",
    "    print('여자')\n",
    "    \n",
    "# str() 함수는 인수로 지정된 숫자를 문자열로 변환한다.\n",
    "if jumin[6] == str(1) or jumin[6] == str(3) or jumin[6] == str(5):\n",
    "    print('남자')\n",
    "else:\n",
    "    print('여자')"
   ]
  },
  {
   "cell_type": "code",
   "execution_count": null,
   "metadata": {},
   "outputs": [],
   "source": []
  },
  {
   "cell_type": "code",
   "execution_count": null,
   "metadata": {},
   "outputs": [],
   "source": []
  },
  {
   "cell_type": "code",
   "execution_count": null,
   "metadata": {},
   "outputs": [],
   "source": []
  },
  {
   "cell_type": "code",
   "execution_count": null,
   "metadata": {},
   "outputs": [],
   "source": []
  },
  {
   "cell_type": "code",
   "execution_count": null,
   "metadata": {},
   "outputs": [],
   "source": []
  }
 ],
 "metadata": {
  "kernelspec": {
   "display_name": "Python 3",
   "language": "python",
   "name": "python3"
  },
  "language_info": {
   "codemirror_mode": {
    "name": "ipython",
    "version": 3
   },
   "file_extension": ".py",
   "mimetype": "text/x-python",
   "name": "python",
   "nbconvert_exporter": "python",
   "pygments_lexer": "ipython3",
   "version": "3.6.8"
  }
 },
 "nbformat": 4,
 "nbformat_minor": 4
}
